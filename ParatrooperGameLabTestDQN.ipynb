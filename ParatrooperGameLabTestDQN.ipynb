{
 "cells": [
  {
   "cell_type": "markdown",
   "id": "99f834bd-bcc5-4193-af16-aa68bfbd1caf",
   "metadata": {},
   "source": [
    "# 0. PIP Installs"
   ]
  },
  {
   "cell_type": "code",
   "execution_count": null,
   "id": "0389fff5-80db-483c-b811-75720f0b50d5",
   "metadata": {},
   "outputs": [],
   "source": [
    "#!pip install pygame\n",
    "#!pip install numpy\n",
    "#!pip install gymnasium\n",
    "#!pip install pytorch (CHOOSE YOUR BEST OPTION ON WEB [CUDA, PLATFORM, ETC..]\n",
    "#!pip install stable-baselines3[extra]"
   ]
  },
  {
   "cell_type": "markdown",
   "id": "48b37afd-0016-4a54-a770-6525951c856d",
   "metadata": {},
   "source": [
    "Last tested was running on Machine with this version state:\n",
    "\n",
    "- PyGame: 2.5.2\n",
    "- OS: Windows-10\n",
    "- Python: 3.10.7\n",
    "- Stable-Baselines3: 2.1.0\n",
    "- PyTorch: 2.1.0+cu121\n",
    "- GPU Enabled: True\n",
    "- Numpy: 1.25.0\n",
    "- Cloudpickle: 3.0.0\n",
    "- Gymnasium: 0.29.1\n",
    "- OpenAI Gym: 0.26.2\n"
   ]
  },
  {
   "cell_type": "markdown",
   "id": "a655f032-41e9-4c90-b524-70a1a32a5edd",
   "metadata": {},
   "source": [
    "# 1. Imports"
   ]
  },
  {
   "cell_type": "code",
   "execution_count": null,
   "id": "59574478-19a7-4e2a-9f00-df459dbc51dd",
   "metadata": {},
   "outputs": [],
   "source": [
    "import paratroopergame\n",
    "# Import environment base class for a wrapper \n",
    "from gymnasium import Env \n",
    "\n",
    "# Import the space shapes for the environment\n",
    "from gymnasium.spaces import Discrete, Box\n",
    "# Import numpy to calculate frame delta \n",
    "import numpy as np\n",
    "\n",
    "from stable_baselines3 import DQN\n",
    "\n",
    "from stable_baselines3.common.monitor import Monitor\n",
    "\n",
    "from stable_baselines3.common.evaluation import evaluate_policy\n",
    "\n",
    "from stable_baselines3.common.callbacks import BaseCallback\n",
    "\n",
    "import os\n",
    "\n",
    "from stable_baselines3.common.vec_env import DummyVecEnv, VecFrameStack, VecTransposeImage"
   ]
  },
  {
   "cell_type": "markdown",
   "id": "4a3aaf37-fa04-42e6-ba5a-d8299f494177",
   "metadata": {},
   "source": [
    "# 2. Directories"
   ]
  },
  {
   "cell_type": "code",
   "execution_count": null,
   "id": "3e76f3ec-e9ea-4bd0-87cb-010f1746e26c",
   "metadata": {},
   "outputs": [],
   "source": [
    "LOG_DIR = './logs/'\n",
    "OPT_DIR = './models/'"
   ]
  },
  {
   "cell_type": "markdown",
   "id": "18ac283c-b644-49d3-8aeb-f26a81bc508e",
   "metadata": {},
   "source": [
    "# 3. (Optional) Normal Gaming (Play yourself, not necessary)"
   ]
  },
  {
   "cell_type": "code",
   "execution_count": null,
   "id": "1e870903-8c97-402f-b0ce-7555efd0bd5b",
   "metadata": {},
   "outputs": [],
   "source": [
    "#Env wrapper not necessary here.  SHOOT WITH SPACEBAR!\n",
    "game_instance = paratroopergame.GameSystem('Paratrooper game', paratroopergame.GAME_MODE_NORMAL, 'human')\n",
    "\n",
    "game_instance.reset()\n",
    "\n",
    "\n",
    "while(game_instance.isRunning()):\n",
    "    retVal = game_instance.step()\n",
    "    game_instance.render()\n",
    "game_instance.close()\n",
    "\n",
    "\n"
   ]
  },
  {
   "cell_type": "markdown",
   "id": "4988aad0-987b-4b0a-88b8-23493055ca60",
   "metadata": {},
   "source": [
    "# 4. Game Model"
   ]
  },
  {
   "cell_type": "code",
   "execution_count": null,
   "id": "b5f940cf-bdc7-4eb4-b67d-b126609b5d2a",
   "metadata": {},
   "outputs": [],
   "source": [
    "class ParatrooperGym(Env): \n",
    "    def __init__(self, render_mode = 'human'):\n",
    "        super().__init__()\n",
    "        # Specify action space and observation space \n",
    "        self.render_mode = render_mode\n",
    "        self.observation_space = Box(low=0.0, high=1.0, shape=(90, 160,), dtype=np.float16)\n",
    "        self.action_space = Discrete(4)\n",
    "\n",
    "\n",
    "        # Startup and instance of the game \n",
    "        self.game = paratroopergame.GameSystem('Paratrooper game', paratroopergame.GAME_MODE_EXT_ACTION, render_mode)\n",
    "    \n",
    "    def reset(self, seed = 0):\n",
    "        super().reset(seed=seed)\n",
    "        \n",
    "        # Return the first frame \n",
    "        obs = self.game.reset(seed)\n",
    "        \n",
    "        self.LastDP = 0\n",
    "        self.LastEP = 0\n",
    "        self.LastMB = 0\n",
    "        self.LastDA = 0\n",
    "\n",
    "        info = {}\n",
    "\n",
    "        info['none'] = 0\n",
    "        \n",
    "        return obs, info\n",
    "    \n",
    "    def step(self, action): \n",
    "        # Take a step \n",
    "        obs, done, trimmed, info = self.game.step(action)\n",
    "        \n",
    "        \n",
    "        # Reshape the reward function\n",
    "        reward = (info['DestroyedParatroopers'] - self.LastDP)*(5)\n",
    "        reward += (info['EscapedParatroopers'] - self.LastEP)*(-10)\n",
    "\n",
    "\n",
    "        self.LastDP = info['DestroyedParatroopers']\n",
    "        self.LastEP = info['EscapedParatroopers']\n",
    "        self.LastMB = info['MissedBullets']\n",
    "        self.LastDA = info['DestroyedAircrafts']\n",
    "        \n",
    "        return obs, reward, done, trimmed, info\n",
    "    \n",
    "    def render(self, *args, **kwargs):\n",
    "        self.game.render()\n",
    "        \n",
    "    def close(self):\n",
    "        self.game.close()"
   ]
  },
  {
   "cell_type": "markdown",
   "id": "4ea69fc5-f26f-4db0-a6e2-1b0a727daa5e",
   "metadata": {},
   "source": [
    "# 5. Callback Training"
   ]
  },
  {
   "cell_type": "markdown",
   "id": "3cf0224d-ba95-4128-8b5e-ee3750f2a9d6",
   "metadata": {},
   "source": [
    "Don't worry if game window seems frozen, training is going on and can be checked on log folder during whole proccess. Don't close game window"
   ]
  },
  {
   "cell_type": "code",
   "execution_count": null,
   "id": "c5f69a00-6e4a-4ae6-af83-da1d9bd2287e",
   "metadata": {},
   "outputs": [],
   "source": [
    "class TrainAndLoggingCallback(BaseCallback):\n",
    "\n",
    "    def __init__(self, check_freq, save_path, verbose=1):\n",
    "        super(TrainAndLoggingCallback, self).__init__(verbose)\n",
    "        self.check_freq = check_freq\n",
    "        self.save_path = save_path\n",
    "\n",
    "    def _init_callback(self):\n",
    "        if self.save_path is not None:\n",
    "            os.makedirs(self.save_path, exist_ok=True)\n",
    "\n",
    "    def _on_step(self):\n",
    "        if self.n_calls % self.check_freq == 0:\n",
    "            model_path = os.path.join(self.save_path, 'best_model_{}'.format(self.n_calls))\n",
    "            self.model.save(model_path)\n",
    "\n",
    "        return True\n",
    "\n",
    "\n",
    "callback = TrainAndLoggingCallback(check_freq=20000, save_path=OPT_DIR)\n",
    "\n",
    "# Create environment. AI tells game not to render or process window events, which makes FPS higher\n",
    "env = ParatrooperGym('ai')\n",
    "env = Monitor(env, LOG_DIR)\n",
    "\n",
    "# Create algo \n",
    "model = DQN('MlpPolicy', env, tensorboard_log=LOG_DIR, learning_starts=10000, learning_rate=0.0001,  train_freq=1024, batch_size=1024, buffer_size = 20000)\n",
    "model.learn(total_timesteps=200000, callback=callback)\n",
    "env.close()"
   ]
  },
  {
   "cell_type": "markdown",
   "id": "769373d3-c0f0-4f66-8357-11e133a3b204",
   "metadata": {},
   "source": [
    "# 6. Test Model"
   ]
  },
  {
   "cell_type": "code",
   "execution_count": null,
   "id": "4e78b78f-a8f7-41fa-8a1b-3edece8e2ee1",
   "metadata": {},
   "outputs": [],
   "source": [
    "# Human render tells game to render and process window event. Also render variable in evaluate_policy tells to call Env render() function periodically\n",
    "env = ParatrooperGym('human')\n",
    "env = Monitor(env, LOG_DIR)\n",
    "model = DQN.load(os.path.join(OPT_DIR, 'best_model_200000.zip'))\n",
    "mean_reward, _ = evaluate_policy(model, env, render=True, n_eval_episodes=5)\n",
    "env.close()"
   ]
  },
  {
   "cell_type": "code",
   "execution_count": null,
   "id": "9872fbd6-5d47-4aac-bd55-d92229e7ae1f",
   "metadata": {},
   "outputs": [],
   "source": []
  }
 ],
 "metadata": {
  "kernelspec": {
   "display_name": "Python 3 (ipykernel)",
   "language": "python",
   "name": "python3"
  },
  "language_info": {
   "codemirror_mode": {
    "name": "ipython",
    "version": 3
   },
   "file_extension": ".py",
   "mimetype": "text/x-python",
   "name": "python",
   "nbconvert_exporter": "python",
   "pygments_lexer": "ipython3",
   "version": "3.10.7"
  }
 },
 "nbformat": 4,
 "nbformat_minor": 5
}
